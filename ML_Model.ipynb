{
 "cells": [
  {
   "cell_type": "markdown",
   "metadata": {},
   "source": [
    "### SMI Stocks Bullishness Index - ML Model"
   ]
  },
  {
   "cell_type": "code",
   "execution_count": 14,
   "metadata": {},
   "outputs": [],
   "source": [
    "import pandas as pd\n",
    "import numpy as np\n",
    "import statsmodels.api as sm\n",
    "from sklearn.model_selection import train_test_split\n",
    "import pickle\n",
    "import requests"
   ]
  },
  {
   "cell_type": "code",
   "execution_count": 15,
   "metadata": {},
   "outputs": [],
   "source": [
    "url = 'https://github.com/AlGatone21/SMI_Stocks_Bullishness/raw/main/SMI_Weekly_Returns_Complete.xlsx'\n",
    "df = pd.read_excel(url)"
   ]
  },
  {
   "cell_type": "code",
   "execution_count": 16,
   "metadata": {},
   "outputs": [
    {
     "data": {
      "text/html": [
       "<div>\n",
       "<style scoped>\n",
       "    .dataframe tbody tr th:only-of-type {\n",
       "        vertical-align: middle;\n",
       "    }\n",
       "\n",
       "    .dataframe tbody tr th {\n",
       "        vertical-align: top;\n",
       "    }\n",
       "\n",
       "    .dataframe thead th {\n",
       "        text-align: right;\n",
       "    }\n",
       "</style>\n",
       "<table border=\"1\" class=\"dataframe\">\n",
       "  <thead>\n",
       "    <tr style=\"text-align: right;\">\n",
       "      <th></th>\n",
       "      <th>t</th>\n",
       "      <th>Date</th>\n",
       "      <th>weekly.returns</th>\n",
       "      <th>Company</th>\n",
       "      <th>Ticker</th>\n",
       "      <th>Close</th>\n",
       "      <th>Open</th>\n",
       "      <th>Sentiment_Score</th>\n",
       "      <th>Sentiment_Score_t1</th>\n",
       "      <th>Volume</th>\n",
       "      <th>Volume_t1</th>\n",
       "      <th>Volatility</th>\n",
       "      <th>Volatility_t1</th>\n",
       "    </tr>\n",
       "  </thead>\n",
       "  <tbody>\n",
       "    <tr>\n",
       "      <th>0</th>\n",
       "      <td>1</td>\n",
       "      <td>2010-01-08</td>\n",
       "      <td>0.050399</td>\n",
       "      <td>ABB</td>\n",
       "      <td>ABBN.SW</td>\n",
       "      <td>20.193317</td>\n",
       "      <td>19.224422</td>\n",
       "      <td>0.0</td>\n",
       "      <td>0.0</td>\n",
       "      <td>48684113</td>\n",
       "      <td>0.0</td>\n",
       "      <td>0.002820</td>\n",
       "      <td>0.000000</td>\n",
       "    </tr>\n",
       "    <tr>\n",
       "      <th>1</th>\n",
       "      <td>2</td>\n",
       "      <td>2010-01-15</td>\n",
       "      <td>-0.020903</td>\n",
       "      <td>ABB</td>\n",
       "      <td>ABBN.SW</td>\n",
       "      <td>19.771225</td>\n",
       "      <td>20.193317</td>\n",
       "      <td>0.0</td>\n",
       "      <td>0.0</td>\n",
       "      <td>49711384</td>\n",
       "      <td>48684113.0</td>\n",
       "      <td>0.010201</td>\n",
       "      <td>0.002820</td>\n",
       "    </tr>\n",
       "    <tr>\n",
       "      <th>2</th>\n",
       "      <td>3</td>\n",
       "      <td>2010-01-22</td>\n",
       "      <td>-0.065502</td>\n",
       "      <td>ABB</td>\n",
       "      <td>ABBN.SW</td>\n",
       "      <td>18.476168</td>\n",
       "      <td>19.771225</td>\n",
       "      <td>0.0</td>\n",
       "      <td>0.0</td>\n",
       "      <td>64567802</td>\n",
       "      <td>49711384.0</td>\n",
       "      <td>0.010255</td>\n",
       "      <td>0.010201</td>\n",
       "    </tr>\n",
       "    <tr>\n",
       "      <th>3</th>\n",
       "      <td>4</td>\n",
       "      <td>2010-01-29</td>\n",
       "      <td>0.009865</td>\n",
       "      <td>ABB</td>\n",
       "      <td>ABBN.SW</td>\n",
       "      <td>18.658434</td>\n",
       "      <td>18.476168</td>\n",
       "      <td>0.0</td>\n",
       "      <td>0.0</td>\n",
       "      <td>56457153</td>\n",
       "      <td>64567802.0</td>\n",
       "      <td>0.022751</td>\n",
       "      <td>0.010255</td>\n",
       "    </tr>\n",
       "    <tr>\n",
       "      <th>4</th>\n",
       "      <td>5</td>\n",
       "      <td>2010-02-05</td>\n",
       "      <td>-0.033933</td>\n",
       "      <td>ABB</td>\n",
       "      <td>ABBN.SW</td>\n",
       "      <td>18.025293</td>\n",
       "      <td>18.658434</td>\n",
       "      <td>0.0</td>\n",
       "      <td>0.0</td>\n",
       "      <td>46271374</td>\n",
       "      <td>56457153.0</td>\n",
       "      <td>0.018451</td>\n",
       "      <td>0.022751</td>\n",
       "    </tr>\n",
       "  </tbody>\n",
       "</table>\n",
       "</div>"
      ],
      "text/plain": [
       "   t       Date  weekly.returns Company   Ticker      Close       Open  \\\n",
       "0  1 2010-01-08        0.050399     ABB  ABBN.SW  20.193317  19.224422   \n",
       "1  2 2010-01-15       -0.020903     ABB  ABBN.SW  19.771225  20.193317   \n",
       "2  3 2010-01-22       -0.065502     ABB  ABBN.SW  18.476168  19.771225   \n",
       "3  4 2010-01-29        0.009865     ABB  ABBN.SW  18.658434  18.476168   \n",
       "4  5 2010-02-05       -0.033933     ABB  ABBN.SW  18.025293  18.658434   \n",
       "\n",
       "   Sentiment_Score  Sentiment_Score_t1    Volume   Volume_t1  Volatility  \\\n",
       "0              0.0                 0.0  48684113         0.0    0.002820   \n",
       "1              0.0                 0.0  49711384  48684113.0    0.010201   \n",
       "2              0.0                 0.0  64567802  49711384.0    0.010255   \n",
       "3              0.0                 0.0  56457153  64567802.0    0.022751   \n",
       "4              0.0                 0.0  46271374  56457153.0    0.018451   \n",
       "\n",
       "   Volatility_t1  \n",
       "0       0.000000  \n",
       "1       0.002820  \n",
       "2       0.010201  \n",
       "3       0.010255  \n",
       "4       0.022751  "
      ]
     },
     "execution_count": 16,
     "metadata": {},
     "output_type": "execute_result"
    }
   ],
   "source": [
    "df.head()"
   ]
  },
  {
   "cell_type": "code",
   "execution_count": 17,
   "metadata": {},
   "outputs": [],
   "source": [
    "# Define the features and target variable\n",
    "features = df[[\"Open\", \"Sentiment_Score_t1\", \"Volume_t1\", \"Volatility_t1\"]]\n",
    "target = df[\"Close\"]\n",
    "\n",
    "# Split the data into train and test sets\n",
    "X_train, X_test, y_train, y_test = train_test_split(features, target, test_size=0.2, random_state=42)"
   ]
  },
  {
   "cell_type": "code",
   "execution_count": 18,
   "metadata": {},
   "outputs": [],
   "source": [
    "# Create the linear regression model\n",
    "X_train = sm.add_constant(X_train)\n",
    "model = sm.OLS(y_train, X_train)\n",
    "model = model.fit()"
   ]
  },
  {
   "cell_type": "code",
   "execution_count": 19,
   "metadata": {},
   "outputs": [
    {
     "name": "stdout",
     "output_type": "stream",
     "text": [
      "                            OLS Regression Results                            \n",
      "==============================================================================\n",
      "Dep. Variable:                  Close   R-squared:                       0.999\n",
      "Model:                            OLS   Adj. R-squared:                  0.999\n",
      "Method:                 Least Squares   F-statistic:                 2.817e+06\n",
      "Date:                Thu, 02 May 2024   Prob (F-statistic):               0.00\n",
      "Time:                        16:32:13   Log-Likelihood:                -44979.\n",
      "No. Observations:               10709   AIC:                         8.997e+04\n",
      "Df Residuals:                   10704   BIC:                         9.000e+04\n",
      "Df Model:                           4                                         \n",
      "Covariance Type:            nonrobust                                         \n",
      "======================================================================================\n",
      "                         coef    std err          t      P>|t|      [0.025      0.975]\n",
      "--------------------------------------------------------------------------------------\n",
      "const                 -0.2027      0.316     -0.642      0.521      -0.821       0.416\n",
      "Open                   1.0019      0.000   3264.544      0.000       1.001       1.003\n",
      "Sentiment_Score_t1    -2.8617      1.217     -2.351      0.019      -5.247      -0.476\n",
      "Volume_t1          -1.046e-09   8.74e-09     -0.120      0.905   -1.82e-08    1.61e-08\n",
      "Volatility_t1         12.7996     22.930      0.558      0.577     -32.147      57.746\n",
      "==============================================================================\n",
      "Omnibus:                     8802.329   Durbin-Watson:                   1.975\n",
      "Prob(Omnibus):                  0.000   Jarque-Bera (JB):          5977806.937\n",
      "Skew:                          -2.779   Prob(JB):                         0.00\n",
      "Kurtosis:                     118.611   Cond. No.                     3.15e+09\n",
      "==============================================================================\n",
      "\n",
      "Notes:\n",
      "[1] Standard Errors assume that the covariance matrix of the errors is correctly specified.\n",
      "[2] The condition number is large, 3.15e+09. This might indicate that there are\n",
      "strong multicollinearity or other numerical problems.\n"
     ]
    }
   ],
   "source": [
    "print(model.summary())"
   ]
  },
  {
   "cell_type": "code",
   "execution_count": 20,
   "metadata": {},
   "outputs": [],
   "source": [
    "X_test = sm.add_constant(X_test)\n",
    "y_pred = model.predict(X_test)"
   ]
  },
  {
   "cell_type": "code",
   "execution_count": 22,
   "metadata": {},
   "outputs": [],
   "source": [
    "model.save('linear_model.pickle')"
   ]
  },
  {
   "cell_type": "code",
   "execution_count": 24,
   "metadata": {},
   "outputs": [],
   "source": [
    "from statsmodels.iolib.smpickle import load_pickle\n",
    "model = load_pickle('linear_model.pickle')"
   ]
  },
  {
   "cell_type": "code",
   "execution_count": 21,
   "metadata": {},
   "outputs": [
    {
     "data": {
      "text/plain": [
       "21.26279476587989"
      ]
     },
     "execution_count": 21,
     "metadata": {},
     "output_type": "execute_result"
    }
   ],
   "source": [
    "# Calculate the Mean Squared Error\n",
    "residuals_test = y_test - y_pred\n",
    "\n",
    "RMSE = np.sqrt(np.mean(residuals_test**2))\n",
    "RMSE"
   ]
  },
  {
   "cell_type": "code",
   "execution_count": 19,
   "metadata": {},
   "outputs": [],
   "source": [
    "# Save the model\n",
    "filename = 'linear_model.sav'\n",
    "pickle.dump(model, open(filename, 'wb'))"
   ]
  },
  {
   "cell_type": "code",
   "execution_count": 20,
   "metadata": {},
   "outputs": [
    {
     "name": "stdout",
     "output_type": "stream",
     "text": [
      "Current working directory: C:\\Users\\aless\\AppData\\Local\\Programs\\Microsoft VS Code\n"
     ]
    }
   ],
   "source": [
    "import os\n",
    "cwd = os.getcwd()\n",
    "print(\"Current working directory:\", cwd)\n"
   ]
  },
  {
   "cell_type": "code",
   "execution_count": 25,
   "metadata": {},
   "outputs": [
    {
     "data": {
      "text/plain": [
       "101.55401306451097"
      ]
     },
     "execution_count": 25,
     "metadata": {},
     "output_type": "execute_result"
    }
   ],
   "source": [
    "model.predict([[1, 100, -0.1, 1000, 0.1]])[0]"
   ]
  },
  {
   "cell_type": "code",
   "execution_count": 11,
   "metadata": {},
   "outputs": [],
   "source": [
    "model = pickle.load(open(\"linear_model.sav\", \"rb\"))"
   ]
  }
 ],
 "metadata": {
  "kernelspec": {
   "display_name": "Python 3",
   "language": "python",
   "name": "python3"
  },
  "language_info": {
   "codemirror_mode": {
    "name": "ipython",
    "version": 3
   },
   "file_extension": ".py",
   "mimetype": "text/x-python",
   "name": "python",
   "nbconvert_exporter": "python",
   "pygments_lexer": "ipython3",
   "version": "3.11.7"
  }
 },
 "nbformat": 4,
 "nbformat_minor": 2
}
