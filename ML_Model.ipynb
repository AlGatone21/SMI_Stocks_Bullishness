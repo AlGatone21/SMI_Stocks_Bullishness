{
 "cells": [
  {
   "cell_type": "markdown",
   "metadata": {},
   "source": [
    "### SMI Stocks Bullishness Index - ML Model"
   ]
  },
  {
   "cell_type": "code",
   "execution_count": 2,
   "metadata": {},
   "outputs": [],
   "source": [
    "import pandas as pd\n",
    "import numpy as np\n",
    "import statsmodels.api as sm\n",
    "from sklearn.model_selection import train_test_split\n",
    "import pickle\n",
    "from statsmodels.iolib.smpickle import load_pickle\n",
    "import requests"
   ]
  },
  {
   "cell_type": "code",
   "execution_count": 7,
   "metadata": {},
   "outputs": [],
   "source": [
    "url = 'https://github.com/AlGatone21/SMI_Stocks_Bullishness/raw/main/SMI_Weekly_Returns_Complete_v2.xlsx'\n",
    "df = pd.read_excel(url)"
   ]
  },
  {
   "cell_type": "code",
   "execution_count": 8,
   "metadata": {},
   "outputs": [
    {
     "data": {
      "text/html": [
       "<div>\n",
       "<style scoped>\n",
       "    .dataframe tbody tr th:only-of-type {\n",
       "        vertical-align: middle;\n",
       "    }\n",
       "\n",
       "    .dataframe tbody tr th {\n",
       "        vertical-align: top;\n",
       "    }\n",
       "\n",
       "    .dataframe thead th {\n",
       "        text-align: right;\n",
       "    }\n",
       "</style>\n",
       "<table border=\"1\" class=\"dataframe\">\n",
       "  <thead>\n",
       "    <tr style=\"text-align: right;\">\n",
       "      <th></th>\n",
       "      <th>t</th>\n",
       "      <th>Date</th>\n",
       "      <th>weekly.returns</th>\n",
       "      <th>Company</th>\n",
       "      <th>Ticker</th>\n",
       "      <th>Close</th>\n",
       "      <th>Open</th>\n",
       "      <th>Sentiment_Score</th>\n",
       "      <th>Sentiment_Score_t1</th>\n",
       "      <th>Volume</th>\n",
       "      <th>Volume_t1</th>\n",
       "      <th>log_Volume_t1</th>\n",
       "      <th>Volatility</th>\n",
       "      <th>Volatility_t1</th>\n",
       "      <th>Return_t1</th>\n",
       "    </tr>\n",
       "  </thead>\n",
       "  <tbody>\n",
       "    <tr>\n",
       "      <th>0</th>\n",
       "      <td>1</td>\n",
       "      <td>2010-01-08</td>\n",
       "      <td>0.050399</td>\n",
       "      <td>ABB</td>\n",
       "      <td>ABBN.SW</td>\n",
       "      <td>20.193317</td>\n",
       "      <td>19.224422</td>\n",
       "      <td>0.0</td>\n",
       "      <td>0.0</td>\n",
       "      <td>48684113</td>\n",
       "      <td>0.0</td>\n",
       "      <td>0.000000</td>\n",
       "      <td>0.002820</td>\n",
       "      <td>0.000000</td>\n",
       "      <td>0.000000</td>\n",
       "    </tr>\n",
       "    <tr>\n",
       "      <th>1</th>\n",
       "      <td>2</td>\n",
       "      <td>2010-01-15</td>\n",
       "      <td>-0.020903</td>\n",
       "      <td>ABB</td>\n",
       "      <td>ABBN.SW</td>\n",
       "      <td>19.771225</td>\n",
       "      <td>20.193317</td>\n",
       "      <td>0.0</td>\n",
       "      <td>0.0</td>\n",
       "      <td>49711384</td>\n",
       "      <td>48684113.0</td>\n",
       "      <td>17.700863</td>\n",
       "      <td>0.010201</td>\n",
       "      <td>0.002820</td>\n",
       "      <td>0.050399</td>\n",
       "    </tr>\n",
       "    <tr>\n",
       "      <th>2</th>\n",
       "      <td>3</td>\n",
       "      <td>2010-01-22</td>\n",
       "      <td>-0.065502</td>\n",
       "      <td>ABB</td>\n",
       "      <td>ABBN.SW</td>\n",
       "      <td>18.476168</td>\n",
       "      <td>19.771225</td>\n",
       "      <td>0.0</td>\n",
       "      <td>0.0</td>\n",
       "      <td>64567802</td>\n",
       "      <td>49711384.0</td>\n",
       "      <td>17.721745</td>\n",
       "      <td>0.010255</td>\n",
       "      <td>0.010201</td>\n",
       "      <td>-0.020903</td>\n",
       "    </tr>\n",
       "    <tr>\n",
       "      <th>3</th>\n",
       "      <td>4</td>\n",
       "      <td>2010-01-29</td>\n",
       "      <td>0.009865</td>\n",
       "      <td>ABB</td>\n",
       "      <td>ABBN.SW</td>\n",
       "      <td>18.658434</td>\n",
       "      <td>18.476168</td>\n",
       "      <td>0.0</td>\n",
       "      <td>0.0</td>\n",
       "      <td>56457153</td>\n",
       "      <td>64567802.0</td>\n",
       "      <td>17.983226</td>\n",
       "      <td>0.022751</td>\n",
       "      <td>0.010255</td>\n",
       "      <td>-0.065502</td>\n",
       "    </tr>\n",
       "    <tr>\n",
       "      <th>4</th>\n",
       "      <td>5</td>\n",
       "      <td>2010-02-05</td>\n",
       "      <td>-0.033933</td>\n",
       "      <td>ABB</td>\n",
       "      <td>ABBN.SW</td>\n",
       "      <td>18.025293</td>\n",
       "      <td>18.658434</td>\n",
       "      <td>0.0</td>\n",
       "      <td>0.0</td>\n",
       "      <td>46271374</td>\n",
       "      <td>56457153.0</td>\n",
       "      <td>17.848993</td>\n",
       "      <td>0.018451</td>\n",
       "      <td>0.022751</td>\n",
       "      <td>0.009865</td>\n",
       "    </tr>\n",
       "  </tbody>\n",
       "</table>\n",
       "</div>"
      ],
      "text/plain": [
       "   t       Date  weekly.returns Company   Ticker      Close       Open  \\\n",
       "0  1 2010-01-08        0.050399     ABB  ABBN.SW  20.193317  19.224422   \n",
       "1  2 2010-01-15       -0.020903     ABB  ABBN.SW  19.771225  20.193317   \n",
       "2  3 2010-01-22       -0.065502     ABB  ABBN.SW  18.476168  19.771225   \n",
       "3  4 2010-01-29        0.009865     ABB  ABBN.SW  18.658434  18.476168   \n",
       "4  5 2010-02-05       -0.033933     ABB  ABBN.SW  18.025293  18.658434   \n",
       "\n",
       "   Sentiment_Score  Sentiment_Score_t1    Volume   Volume_t1  log_Volume_t1  \\\n",
       "0              0.0                 0.0  48684113         0.0       0.000000   \n",
       "1              0.0                 0.0  49711384  48684113.0      17.700863   \n",
       "2              0.0                 0.0  64567802  49711384.0      17.721745   \n",
       "3              0.0                 0.0  56457153  64567802.0      17.983226   \n",
       "4              0.0                 0.0  46271374  56457153.0      17.848993   \n",
       "\n",
       "   Volatility  Volatility_t1  Return_t1  \n",
       "0    0.002820       0.000000   0.000000  \n",
       "1    0.010201       0.002820   0.050399  \n",
       "2    0.010255       0.010201  -0.020903  \n",
       "3    0.022751       0.010255  -0.065502  \n",
       "4    0.018451       0.022751   0.009865  "
      ]
     },
     "execution_count": 8,
     "metadata": {},
     "output_type": "execute_result"
    }
   ],
   "source": [
    "df.head()   "
   ]
  },
  {
   "cell_type": "code",
   "execution_count": 11,
   "metadata": {},
   "outputs": [],
   "source": [
    "# Define the features and target variable\n",
    "features = df[[\"Sentiment_Score_t1\", \"log_Volume_t1\", \"Volatility_t1\", \"Return_t1\"]]\n",
    "target = df[\"weekly.returns\"]\n",
    "\n",
    "# Split the data into train and test sets\n",
    "X_train, X_test, y_train, y_test = train_test_split(features, target, test_size=0.2, random_state=42)"
   ]
  },
  {
   "cell_type": "code",
   "execution_count": 12,
   "metadata": {},
   "outputs": [],
   "source": [
    "# Create the linear regression model\n",
    "X_train = sm.add_constant(X_train)\n",
    "model = sm.OLS(y_train, X_train)\n",
    "model = model.fit()"
   ]
  },
  {
   "cell_type": "code",
   "execution_count": 13,
   "metadata": {},
   "outputs": [
    {
     "name": "stdout",
     "output_type": "stream",
     "text": [
      "                            OLS Regression Results                            \n",
      "==============================================================================\n",
      "Dep. Variable:         weekly.returns   R-squared:                       0.006\n",
      "Model:                            OLS   Adj. R-squared:                  0.006\n",
      "Method:                 Least Squares   F-statistic:                     17.31\n",
      "Date:                Wed, 08 May 2024   Prob (F-statistic):           3.63e-14\n",
      "Time:                        13:19:52   Log-Likelihood:                 21087.\n",
      "No. Observations:               10709   AIC:                        -4.216e+04\n",
      "Df Residuals:                   10704   BIC:                        -4.213e+04\n",
      "Df Model:                           4                                         \n",
      "Covariance Type:            nonrobust                                         \n",
      "======================================================================================\n",
      "                         coef    std err          t      P>|t|      [0.025      0.975]\n",
      "--------------------------------------------------------------------------------------\n",
      "const                  0.0052      0.003      2.063      0.039       0.000       0.010\n",
      "Sentiment_Score_t1    -0.0153      0.003     -5.993      0.000      -0.020      -0.010\n",
      "log_Volume_t1         -0.0003      0.000     -1.961      0.050      -0.001   -1.12e-07\n",
      "Volatility_t1          0.1048      0.048      2.174      0.030       0.010       0.199\n",
      "Return_t1             -0.0489      0.010     -5.071      0.000      -0.068      -0.030\n",
      "==============================================================================\n",
      "Omnibus:                     1434.572   Durbin-Watson:                   2.027\n",
      "Prob(Omnibus):                  0.000   Jarque-Bera (JB):             9412.048\n",
      "Skew:                          -0.464   Prob(JB):                         0.00\n",
      "Kurtosis:                       7.498   Cond. No.                     2.23e+03\n",
      "==============================================================================\n",
      "\n",
      "Notes:\n",
      "[1] Standard Errors assume that the covariance matrix of the errors is correctly specified.\n",
      "[2] The condition number is large, 2.23e+03. This might indicate that there are\n",
      "strong multicollinearity or other numerical problems.\n"
     ]
    }
   ],
   "source": [
    "print(model.summary())"
   ]
  },
  {
   "cell_type": "code",
   "execution_count": 14,
   "metadata": {},
   "outputs": [],
   "source": [
    "model.save('linear_regr_model.pickle') # Save the model"
   ]
  }
 ],
 "metadata": {
  "kernelspec": {
   "display_name": "Python 3",
   "language": "python",
   "name": "python3"
  },
  "language_info": {
   "codemirror_mode": {
    "name": "ipython",
    "version": 3
   },
   "file_extension": ".py",
   "mimetype": "text/x-python",
   "name": "python",
   "nbconvert_exporter": "python",
   "pygments_lexer": "ipython3",
   "version": "3.11.7"
  }
 },
 "nbformat": 4,
 "nbformat_minor": 2
}
